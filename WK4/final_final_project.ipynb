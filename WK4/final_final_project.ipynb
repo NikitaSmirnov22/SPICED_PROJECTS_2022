{
 "cells": [
  {
   "cell_type": "code",
   "execution_count": 382,
   "id": "eb828323",
   "metadata": {},
   "outputs": [],
   "source": [
    "#importing libraries\n",
    "\n",
    "#main libraries\n",
    "import re\n",
    "import requests\n",
    "import pandas as pd\n",
    "from bs4 import BeautifulSoup\n",
    "\n",
    "#models and additional components\n",
    "from sklearn.model_selection import train_test_split\n",
    "from sklearn.linear_model import LogisticRegression\n",
    "from sklearn.ensemble import RandomForestClassifier \n",
    "from sklearn.model_selection import cross_val_score\n",
    "from sklearn.model_selection import GridSearchCV\n",
    "\n",
    "#graphs and metrics\n",
    "import matplotlib.pyplot as plt\n",
    "from sklearn.metrics import plot_confusion_matrix\n",
    "from sklearn.metrics import accuracy_score, precision_score, recall_score, confusion_matrix, f1_score\n",
    "\n",
    "import pickle\n",
    "from sklearn.feature_extraction.text import TfidfVectorizer \n",
    "import spacy\n",
    "from sklearn import metrics\n",
    "\n",
    "#Future Warnings\n",
    "import warnings\n",
    "warnings.filterwarnings(\"ignore\")\n",
    "\n",
    "#nlp = spacy.load(r\"/opt/anaconda3/lib/python3.9/site-packages/en_core_web_sm/en_core_web_sm-3.0.0\")"
   ]
  },
  {
   "cell_type": "code",
   "execution_count": 383,
   "id": "e1953017",
   "metadata": {},
   "outputs": [],
   "source": [
    "#to avoid blacklisting\n",
    "headers = {'User-Agent': 'Mozilla/5.0 (Macintosh; Intel Mac OS X 10_10_1) AppleWebKit/537.36 (KHTML, like Gecko) Chrome/39.0.2171.95 Safari/537.36'}"
   ]
  },
  {
   "cell_type": "code",
   "execution_count": 384,
   "id": "5abe5ab7",
   "metadata": {},
   "outputs": [],
   "source": [
    "\"\"\"This function returns a list of songs links of an artist within the web-page(www.lyrics.com) \"\"\"\n",
    "\n",
    "def get_links(artist:str):\n",
    "    html=requests.get(f'https://www.lyrics.com/artist/{artist}').text  \n",
    "    html_soup = BeautifulSoup(html, 'html.parser')\n",
    "    \n",
    "    link_list=[]\n",
    "    for links in html_soup.find_all(attrs={\"class\":\"tal qx\"}):\n",
    "        for link in links.find_all('a'):\n",
    "            te_link=link.get('href')\n",
    "            lyr_link='https://www.lyrics.com/'+te_link\n",
    "            \n",
    "            link_list.append(lyr_link)\n",
    "    return link_list"
   ]
  },
  {
   "cell_type": "code",
   "execution_count": 385,
   "id": "d2934b2e",
   "metadata": {},
   "outputs": [],
   "source": [
    "\"\"\"Define function, that returns a string with song's lyrics (www.lyrics.com)\"\"\"\n",
    "\n",
    "def get_lyrics(song_link:str):\n",
    "    string=''\n",
    "    song_html=requests.get(song_link).text\n",
    "    lyrics_soup = BeautifulSoup(song_html, 'html.parser')\n",
    "\n",
    "    for section in lyrics_soup.find_all(attrs={'class':'lyric-body'}):\n",
    "            text=section.text.split()\n",
    "            for i in text:\n",
    "                string+=i.lower()+' '\n",
    "    return string"
   ]
  },
  {
   "cell_type": "code",
   "execution_count": 386,
   "id": "ba85f981",
   "metadata": {},
   "outputs": [],
   "source": [
    "#got a lyrics list for artist 1\n",
    "melany_links=get_links('melanie martinez')  \n",
    "melany_lyrics=[]\n",
    "for link in melany_links:\n",
    "    melany_lyrics.append(get_lyrics(link))\n",
    "    "
   ]
  },
  {
   "cell_type": "code",
   "execution_count": 387,
   "id": "a20a0444",
   "metadata": {},
   "outputs": [],
   "source": [
    "#got a lyrics list for artist 2\n",
    "oliver_links=get_links('oliver tree')  \n",
    "oliver_lyrics=[]\n",
    "for link in oliver_links:\n",
    "    oliver_lyrics.append(get_lyrics(link))"
   ]
  },
  {
   "cell_type": "code",
   "execution_count": 388,
   "id": "a2c4d27b",
   "metadata": {},
   "outputs": [],
   "source": [
    "#saving pre spacy files\n",
    "for element in melany_lyrics:\n",
    "    open(\"Melanie-Martinez_prespacy.txt\", \"a+\").write(element+\"\\n\")\n",
    "    \n",
    "for element in oliver_lyrics:\n",
    "    open(\"Oliver-Tree_songs_prespacy.txt\", \"a+\").write(element+\"\\n\")"
   ]
  },
  {
   "cell_type": "markdown",
   "id": "53e34208",
   "metadata": {},
   "source": [
    "____________________________________________________________"
   ]
  },
  {
   "cell_type": "markdown",
   "id": "c027d766",
   "metadata": {},
   "source": [
    "SPACY LIBRARY\n",
    "\n",
    "SpaCy - is an open-source software library for advanced natural language processing, written in the programming languages Python and Cython. The library is published under the MIT license and its main developers are Matthew Honnibal and Ines Montani, the founders of the software company Explosion.\n",
    "\n",
    "Main features:\n",
    "- Non-destructive tokenization\n",
    "- \"Alpha tokenization\" support for over 65 languages.\n",
    "- Built-in support for trainable pipeline components such as Named entity recognition, Part-of-speech tagging, dependency parsing, Text classification, Entity Linking and more.\n",
    "- Statistical models for 19 languages.\n",
    "- Multi-task learning with pretrained transformers like BERT.\n",
    "- Support for custom models in PyTorch, TensorFlow and other frameworks.\n",
    "- State-of-the-art speed and accuracy.\n",
    "- Production-ready training system.\n",
    "- Built-in visualizers for syntax and named entities.\n",
    "- Easy model packaging, deployment and workflow management.\n",
    "\n",
    "Link: https://github.com/explosion/spacy-models/blob/master/README.md"
   ]
  },
  {
   "cell_type": "markdown",
   "id": "1fc1885b",
   "metadata": {},
   "source": [
    "____________________________________________________________"
   ]
  },
  {
   "cell_type": "code",
   "execution_count": 389,
   "id": "9a5340a3",
   "metadata": {},
   "outputs": [],
   "source": [
    "#CODE FROM GIT HUB(CERTIFIED MIT)\n",
    "model = spacy.load('en_core_web_sm')"
   ]
  },
  {
   "cell_type": "code",
   "execution_count": 390,
   "id": "84577f98",
   "metadata": {},
   "outputs": [],
   "source": [
    "#CODE FROM GIT HUB(CERTIFIED MIT)\n",
    "\"\"\"use spacy to tokenize, lemmatize and remove stop words\"\"\"\n",
    "def clean_my_string(string):\n",
    "    clean_string = []\n",
    "    token_string = model(string)\n",
    "    for token in token_string:\n",
    "        if not token.is_stop and not token.is_punct and not token.like_num:\n",
    "            clean_string.append(token.lemma_)\n",
    "    return ' '.join(clean_string)"
   ]
  },
  {
   "cell_type": "code",
   "execution_count": 391,
   "id": "14dd033e",
   "metadata": {},
   "outputs": [],
   "source": [
    "#apllying spacy for artist 1\n",
    "clean_melany=[]\n",
    "for item in melany_lyrics: \n",
    "    item=clean_my_string(item)\n",
    "    clean_melany.append(item)"
   ]
  },
  {
   "cell_type": "code",
   "execution_count": 392,
   "id": "be3c41be",
   "metadata": {},
   "outputs": [],
   "source": [
    "#apllying spacy for artist 2\n",
    "clean_oliver=[]\n",
    "for item in oliver_lyrics:   \n",
    "    item=clean_my_string(item)\n",
    "    clean_oliver.append(item)"
   ]
  },
  {
   "cell_type": "code",
   "execution_count": 100,
   "id": "cc676a20",
   "metadata": {},
   "outputs": [
    {
     "name": "stdout",
     "output_type": "stream",
     "text": [
      "1445 685\n",
      "1277 416\n"
     ]
    }
   ],
   "source": [
    "#checking the difference in length after spacy cleaning\n",
    "print(len(melany_lyrics[0]),len(clean_melany[0]))\n",
    "print(len(oliver_lyrics[0]),len(clean_oliver[0]))"
   ]
  },
  {
   "cell_type": "code",
   "execution_count": 101,
   "id": "9017f9c0",
   "metadata": {},
   "outputs": [
    {
     "name": "stdout",
     "output_type": "stream",
     "text": [
      "120 104\n"
     ]
    }
   ],
   "source": [
    "print(len(clean_melany),len(clean_oliver)) "
   ]
  },
  {
   "cell_type": "markdown",
   "id": "da1e5f8b",
   "metadata": {},
   "source": [
    "____________________________________________________________"
   ]
  },
  {
   "cell_type": "markdown",
   "id": "4b1796f9",
   "metadata": {},
   "source": [
    "DATAFRAMES"
   ]
  },
  {
   "cell_type": "code",
   "execution_count": 336,
   "id": "942db2eb",
   "metadata": {},
   "outputs": [
    {
     "data": {
      "text/html": [
       "<div>\n",
       "<style scoped>\n",
       "    .dataframe tbody tr th:only-of-type {\n",
       "        vertical-align: middle;\n",
       "    }\n",
       "\n",
       "    .dataframe tbody tr th {\n",
       "        vertical-align: top;\n",
       "    }\n",
       "\n",
       "    .dataframe thead th {\n",
       "        text-align: right;\n",
       "    }\n",
       "</style>\n",
       "<table border=\"1\" class=\"dataframe\">\n",
       "  <thead>\n",
       "    <tr style=\"text-align: right;\">\n",
       "      <th></th>\n",
       "      <th>lyrics</th>\n",
       "      <th>artist</th>\n",
       "    </tr>\n",
       "  </thead>\n",
       "  <tbody>\n",
       "    <tr>\n",
       "      <th>0</th>\n",
       "      <td>day come give sell soul wait pay die love see ...</td>\n",
       "      <td>Oliver Tree</td>\n",
       "    </tr>\n",
       "    <tr>\n",
       "      <th>1</th>\n",
       "      <td>introspective need thing messy overcomplicate ...</td>\n",
       "      <td>Oliver Tree</td>\n",
       "    </tr>\n",
       "    <tr>\n",
       "      <th>2</th>\n",
       "      <td>fall earth mile away work overrated play door ...</td>\n",
       "      <td>Oliver Tree</td>\n",
       "    </tr>\n",
       "    <tr>\n",
       "      <th>3</th>\n",
       "      <td>everybody know stick everybody hate feel think...</td>\n",
       "      <td>Oliver Tree</td>\n",
       "    </tr>\n",
       "    <tr>\n",
       "      <th>4</th>\n",
       "      <td>day come give sell soul wait pay die love see ...</td>\n",
       "      <td>Oliver Tree</td>\n",
       "    </tr>\n",
       "    <tr>\n",
       "      <th>...</th>\n",
       "      <td>...</td>\n",
       "      <td>...</td>\n",
       "    </tr>\n",
       "    <tr>\n",
       "      <th>99</th>\n",
       "      <td>day come give sell soul wait pay die love see ...</td>\n",
       "      <td>Oliver Tree</td>\n",
       "    </tr>\n",
       "    <tr>\n",
       "      <th>100</th>\n",
       "      <td>wo waste time life people alike mind fit stick...</td>\n",
       "      <td>Oliver Tree</td>\n",
       "    </tr>\n",
       "    <tr>\n",
       "      <th>101</th>\n",
       "      <td>introspective need thing messy overcomplicate ...</td>\n",
       "      <td>Oliver Tree</td>\n",
       "    </tr>\n",
       "    <tr>\n",
       "      <th>102</th>\n",
       "      <td>let let well come save save time save save tim...</td>\n",
       "      <td>Oliver Tree</td>\n",
       "    </tr>\n",
       "    <tr>\n",
       "      <th>103</th>\n",
       "      <td>everybody think 'bout thing miss waste time lo...</td>\n",
       "      <td>Oliver Tree</td>\n",
       "    </tr>\n",
       "  </tbody>\n",
       "</table>\n",
       "<p>104 rows × 2 columns</p>\n",
       "</div>"
      ],
      "text/plain": [
       "                                                lyrics       artist\n",
       "0    day come give sell soul wait pay die love see ...  Oliver Tree\n",
       "1    introspective need thing messy overcomplicate ...  Oliver Tree\n",
       "2    fall earth mile away work overrated play door ...  Oliver Tree\n",
       "3    everybody know stick everybody hate feel think...  Oliver Tree\n",
       "4    day come give sell soul wait pay die love see ...  Oliver Tree\n",
       "..                                                 ...          ...\n",
       "99   day come give sell soul wait pay die love see ...  Oliver Tree\n",
       "100  wo waste time life people alike mind fit stick...  Oliver Tree\n",
       "101  introspective need thing messy overcomplicate ...  Oliver Tree\n",
       "102  let let well come save save time save save tim...  Oliver Tree\n",
       "103  everybody think 'bout thing miss waste time lo...  Oliver Tree\n",
       "\n",
       "[104 rows x 2 columns]"
      ]
     },
     "execution_count": 336,
     "metadata": {},
     "output_type": "execute_result"
    }
   ],
   "source": [
    "df1=pd.DataFrame({'lyrics':clean_oliver, 'artist':\"Oliver Tree\"})\n",
    "df1"
   ]
  },
  {
   "cell_type": "code",
   "execution_count": 337,
   "id": "e080893b",
   "metadata": {},
   "outputs": [
    {
     "data": {
      "text/html": [
       "<div>\n",
       "<style scoped>\n",
       "    .dataframe tbody tr th:only-of-type {\n",
       "        vertical-align: middle;\n",
       "    }\n",
       "\n",
       "    .dataframe tbody tr th {\n",
       "        vertical-align: top;\n",
       "    }\n",
       "\n",
       "    .dataframe thead th {\n",
       "        text-align: right;\n",
       "    }\n",
       "</style>\n",
       "<table border=\"1\" class=\"dataframe\">\n",
       "  <thead>\n",
       "    <tr style=\"text-align: right;\">\n",
       "      <th></th>\n",
       "      <th>lyrics</th>\n",
       "      <th>artist</th>\n",
       "    </tr>\n",
       "  </thead>\n",
       "  <tbody>\n",
       "    <tr>\n",
       "      <th>0</th>\n",
       "      <td>look window cold outside boy yell terrify coun...</td>\n",
       "      <td>Melanie Martinez</td>\n",
       "    </tr>\n",
       "    <tr>\n",
       "      <th>1</th>\n",
       "      <td>middle class teacher lookin kelly fat ass trou...</td>\n",
       "      <td>Melanie Martinez</td>\n",
       "    </tr>\n",
       "    <tr>\n",
       "      <th>2</th>\n",
       "      <td>sneaky greedy money seek peep fucking creep ge...</td>\n",
       "      <td>Melanie Martinez</td>\n",
       "    </tr>\n",
       "    <tr>\n",
       "      <th>3</th>\n",
       "      <td>pull hair tell love treat like cruel word brea...</td>\n",
       "      <td>Melanie Martinez</td>\n",
       "    </tr>\n",
       "    <tr>\n",
       "      <th>4</th>\n",
       "      <td>cut punch let nurse office float away pale loo...</td>\n",
       "      <td>Melanie Martinez</td>\n",
       "    </tr>\n",
       "    <tr>\n",
       "      <th>...</th>\n",
       "      <td>...</td>\n",
       "      <td>...</td>\n",
       "    </tr>\n",
       "    <tr>\n",
       "      <th>115</th>\n",
       "      <td>cut punch let nurse office float away pale loo...</td>\n",
       "      <td>Melanie Martinez</td>\n",
       "    </tr>\n",
       "    <tr>\n",
       "      <th>116</th>\n",
       "      <td>soft sensitive offend hang sentence costume ma...</td>\n",
       "      <td>Melanie Martinez</td>\n",
       "    </tr>\n",
       "    <tr>\n",
       "      <th>117</th>\n",
       "      <td>feel unsure naked body stand watch take shape ...</td>\n",
       "      <td>Melanie Martinez</td>\n",
       "    </tr>\n",
       "    <tr>\n",
       "      <th>118</th>\n",
       "      <td>oh oh oh oh oh oh oh oh say hey girl sit table...</td>\n",
       "      <td>Melanie Martinez</td>\n",
       "    </tr>\n",
       "    <tr>\n",
       "      <th>119</th>\n",
       "      <td>help loss word bring memory temporal false lov...</td>\n",
       "      <td>Melanie Martinez</td>\n",
       "    </tr>\n",
       "  </tbody>\n",
       "</table>\n",
       "<p>120 rows × 2 columns</p>\n",
       "</div>"
      ],
      "text/plain": [
       "                                                lyrics            artist\n",
       "0    look window cold outside boy yell terrify coun...  Melanie Martinez\n",
       "1    middle class teacher lookin kelly fat ass trou...  Melanie Martinez\n",
       "2    sneaky greedy money seek peep fucking creep ge...  Melanie Martinez\n",
       "3    pull hair tell love treat like cruel word brea...  Melanie Martinez\n",
       "4    cut punch let nurse office float away pale loo...  Melanie Martinez\n",
       "..                                                 ...               ...\n",
       "115  cut punch let nurse office float away pale loo...  Melanie Martinez\n",
       "116  soft sensitive offend hang sentence costume ma...  Melanie Martinez\n",
       "117  feel unsure naked body stand watch take shape ...  Melanie Martinez\n",
       "118  oh oh oh oh oh oh oh oh say hey girl sit table...  Melanie Martinez\n",
       "119  help loss word bring memory temporal false lov...  Melanie Martinez\n",
       "\n",
       "[120 rows x 2 columns]"
      ]
     },
     "execution_count": 337,
     "metadata": {},
     "output_type": "execute_result"
    }
   ],
   "source": [
    "df2=pd.DataFrame({'lyrics':clean_melany, 'artist':'Melanie Martinez'})\n",
    "df2"
   ]
  },
  {
   "cell_type": "code",
   "execution_count": 338,
   "id": "ed8efcf2",
   "metadata": {},
   "outputs": [],
   "source": [
    "df=pd.concat([df1,df2])"
   ]
  },
  {
   "cell_type": "code",
   "execution_count": 339,
   "id": "0ee87683",
   "metadata": {},
   "outputs": [
    {
     "data": {
      "text/html": [
       "<div>\n",
       "<style scoped>\n",
       "    .dataframe tbody tr th:only-of-type {\n",
       "        vertical-align: middle;\n",
       "    }\n",
       "\n",
       "    .dataframe tbody tr th {\n",
       "        vertical-align: top;\n",
       "    }\n",
       "\n",
       "    .dataframe thead th {\n",
       "        text-align: right;\n",
       "    }\n",
       "</style>\n",
       "<table border=\"1\" class=\"dataframe\">\n",
       "  <thead>\n",
       "    <tr style=\"text-align: right;\">\n",
       "      <th></th>\n",
       "      <th>lyrics</th>\n",
       "      <th>artist</th>\n",
       "    </tr>\n",
       "  </thead>\n",
       "  <tbody>\n",
       "    <tr>\n",
       "      <th>0</th>\n",
       "      <td>day come give sell soul wait pay die love see ...</td>\n",
       "      <td>Oliver Tree</td>\n",
       "    </tr>\n",
       "    <tr>\n",
       "      <th>1</th>\n",
       "      <td>introspective need thing messy overcomplicate ...</td>\n",
       "      <td>Oliver Tree</td>\n",
       "    </tr>\n",
       "    <tr>\n",
       "      <th>2</th>\n",
       "      <td>fall earth mile away work overrated play door ...</td>\n",
       "      <td>Oliver Tree</td>\n",
       "    </tr>\n",
       "    <tr>\n",
       "      <th>3</th>\n",
       "      <td>everybody know stick everybody hate feel think...</td>\n",
       "      <td>Oliver Tree</td>\n",
       "    </tr>\n",
       "    <tr>\n",
       "      <th>4</th>\n",
       "      <td>day come give sell soul wait pay die love see ...</td>\n",
       "      <td>Oliver Tree</td>\n",
       "    </tr>\n",
       "    <tr>\n",
       "      <th>...</th>\n",
       "      <td>...</td>\n",
       "      <td>...</td>\n",
       "    </tr>\n",
       "    <tr>\n",
       "      <th>115</th>\n",
       "      <td>cut punch let nurse office float away pale loo...</td>\n",
       "      <td>Melanie Martinez</td>\n",
       "    </tr>\n",
       "    <tr>\n",
       "      <th>116</th>\n",
       "      <td>soft sensitive offend hang sentence costume ma...</td>\n",
       "      <td>Melanie Martinez</td>\n",
       "    </tr>\n",
       "    <tr>\n",
       "      <th>117</th>\n",
       "      <td>feel unsure naked body stand watch take shape ...</td>\n",
       "      <td>Melanie Martinez</td>\n",
       "    </tr>\n",
       "    <tr>\n",
       "      <th>118</th>\n",
       "      <td>oh oh oh oh oh oh oh oh say hey girl sit table...</td>\n",
       "      <td>Melanie Martinez</td>\n",
       "    </tr>\n",
       "    <tr>\n",
       "      <th>119</th>\n",
       "      <td>help loss word bring memory temporal false lov...</td>\n",
       "      <td>Melanie Martinez</td>\n",
       "    </tr>\n",
       "  </tbody>\n",
       "</table>\n",
       "<p>224 rows × 2 columns</p>\n",
       "</div>"
      ],
      "text/plain": [
       "                                                lyrics            artist\n",
       "0    day come give sell soul wait pay die love see ...       Oliver Tree\n",
       "1    introspective need thing messy overcomplicate ...       Oliver Tree\n",
       "2    fall earth mile away work overrated play door ...       Oliver Tree\n",
       "3    everybody know stick everybody hate feel think...       Oliver Tree\n",
       "4    day come give sell soul wait pay die love see ...       Oliver Tree\n",
       "..                                                 ...               ...\n",
       "115  cut punch let nurse office float away pale loo...  Melanie Martinez\n",
       "116  soft sensitive offend hang sentence costume ma...  Melanie Martinez\n",
       "117  feel unsure naked body stand watch take shape ...  Melanie Martinez\n",
       "118  oh oh oh oh oh oh oh oh say hey girl sit table...  Melanie Martinez\n",
       "119  help loss word bring memory temporal false lov...  Melanie Martinez\n",
       "\n",
       "[224 rows x 2 columns]"
      ]
     },
     "execution_count": 339,
     "metadata": {},
     "output_type": "execute_result"
    }
   ],
   "source": [
    "df"
   ]
  },
  {
   "cell_type": "code",
   "execution_count": 340,
   "id": "781112eb",
   "metadata": {},
   "outputs": [],
   "source": [
    "\"\"\"\"remove words containing numbers\"\"\"\n",
    "def clean_text_final(text):\n",
    "    text = re.sub('\\w*\\d\\w*', '', text)\n",
    "    return text"
   ]
  },
  {
   "cell_type": "code",
   "execution_count": 341,
   "id": "fc7c6444",
   "metadata": {},
   "outputs": [],
   "source": [
    "#applying function on X\n",
    "df['lyrics'] = df['lyrics'].apply(clean_text_final)"
   ]
  },
  {
   "cell_type": "markdown",
   "id": "89c609bf",
   "metadata": {},
   "source": [
    "____________________________________________________________"
   ]
  },
  {
   "cell_type": "markdown",
   "id": "2ced464e",
   "metadata": {},
   "source": [
    "TRAIN-TEST SPLIT"
   ]
  },
  {
   "cell_type": "code",
   "execution_count": 342,
   "id": "bb03d3b9",
   "metadata": {},
   "outputs": [],
   "source": [
    "#splitting the X,y data \n",
    "X,y=df['lyrics'],df['artist']"
   ]
  },
  {
   "cell_type": "code",
   "execution_count": 343,
   "id": "d357c7cc",
   "metadata": {},
   "outputs": [],
   "source": [
    "X_train, X_test, y_train, y_test = train_test_split(X, y, random_state=42)"
   ]
  },
  {
   "cell_type": "code",
   "execution_count": 344,
   "id": "db0604d4",
   "metadata": {},
   "outputs": [
    {
     "data": {
      "text/plain": [
       "((168,), (168,))"
      ]
     },
     "execution_count": 344,
     "metadata": {},
     "output_type": "execute_result"
    }
   ],
   "source": [
    "X_train.shape,y_train.shape"
   ]
  },
  {
   "cell_type": "code",
   "execution_count": 345,
   "id": "19842e1f",
   "metadata": {},
   "outputs": [],
   "source": [
    "#Apply TF-IDF Vectorizer\n",
    "tf = TfidfVectorizer()"
   ]
  },
  {
   "cell_type": "code",
   "execution_count": 346,
   "id": "da38c99e",
   "metadata": {},
   "outputs": [
    {
     "data": {
      "text/plain": [
       "<168x1825 sparse matrix of type '<class 'numpy.float64'>'\n",
       "\twith 9142 stored elements in Compressed Sparse Row format>"
      ]
     },
     "execution_count": 346,
     "metadata": {},
     "output_type": "execute_result"
    }
   ],
   "source": [
    "vectorized_lyrics=tf.fit_transform(X_train) #creating sparse matrix \n",
    "vectorized_lyrics"
   ]
  },
  {
   "cell_type": "code",
   "execution_count": 347,
   "id": "f4f72853",
   "metadata": {},
   "outputs": [],
   "source": [
    "#transforming X_test\n",
    "X_test_trans=tf.transform(X_test).toarray()"
   ]
  },
  {
   "cell_type": "code",
   "execution_count": 348,
   "id": "97e5c5e4",
   "metadata": {},
   "outputs": [],
   "source": [
    "# converting sparse matrix into a dense matrix to view it effectively\n",
    "tf_vectors=pd.DataFrame(vectorized_lyrics.todense().round(2), columns=tf.get_feature_names()) "
   ]
  },
  {
   "cell_type": "code",
   "execution_count": 349,
   "id": "dd88553e",
   "metadata": {},
   "outputs": [
    {
     "data": {
      "text/html": [
       "<div>\n",
       "<style scoped>\n",
       "    .dataframe tbody tr th:only-of-type {\n",
       "        vertical-align: middle;\n",
       "    }\n",
       "\n",
       "    .dataframe tbody tr th {\n",
       "        vertical-align: top;\n",
       "    }\n",
       "\n",
       "    .dataframe thead th {\n",
       "        text-align: right;\n",
       "    }\n",
       "</style>\n",
       "<table border=\"1\" class=\"dataframe\">\n",
       "  <thead>\n",
       "    <tr style=\"text-align: right;\">\n",
       "      <th></th>\n",
       "      <th>abandon</th>\n",
       "      <th>abc</th>\n",
       "      <th>ability</th>\n",
       "      <th>absurd</th>\n",
       "      <th>accept</th>\n",
       "      <th>achieve</th>\n",
       "      <th>act</th>\n",
       "      <th>actin</th>\n",
       "      <th>action</th>\n",
       "      <th>actress</th>\n",
       "      <th>...</th>\n",
       "      <th>yellin</th>\n",
       "      <th>yes</th>\n",
       "      <th>yield</th>\n",
       "      <th>you</th>\n",
       "      <th>young</th>\n",
       "      <th>yz</th>\n",
       "      <th>ça</th>\n",
       "      <th>джакузи</th>\n",
       "      <th>модель</th>\n",
       "      <th>сосёт</th>\n",
       "    </tr>\n",
       "  </thead>\n",
       "  <tbody>\n",
       "    <tr>\n",
       "      <th>0</th>\n",
       "      <td>0.0</td>\n",
       "      <td>0.0</td>\n",
       "      <td>0.00</td>\n",
       "      <td>0.0</td>\n",
       "      <td>0.00</td>\n",
       "      <td>0.0</td>\n",
       "      <td>0.0</td>\n",
       "      <td>0.0</td>\n",
       "      <td>0.00</td>\n",
       "      <td>0.0</td>\n",
       "      <td>...</td>\n",
       "      <td>0.0</td>\n",
       "      <td>0.00</td>\n",
       "      <td>0.00</td>\n",
       "      <td>0.0</td>\n",
       "      <td>0.0</td>\n",
       "      <td>0.0</td>\n",
       "      <td>0.0</td>\n",
       "      <td>0.0</td>\n",
       "      <td>0.0</td>\n",
       "      <td>0.0</td>\n",
       "    </tr>\n",
       "    <tr>\n",
       "      <th>1</th>\n",
       "      <td>0.0</td>\n",
       "      <td>0.0</td>\n",
       "      <td>0.00</td>\n",
       "      <td>0.0</td>\n",
       "      <td>0.04</td>\n",
       "      <td>0.0</td>\n",
       "      <td>0.0</td>\n",
       "      <td>0.0</td>\n",
       "      <td>0.00</td>\n",
       "      <td>0.0</td>\n",
       "      <td>...</td>\n",
       "      <td>0.0</td>\n",
       "      <td>0.00</td>\n",
       "      <td>0.00</td>\n",
       "      <td>0.0</td>\n",
       "      <td>0.0</td>\n",
       "      <td>0.0</td>\n",
       "      <td>0.0</td>\n",
       "      <td>0.0</td>\n",
       "      <td>0.0</td>\n",
       "      <td>0.0</td>\n",
       "    </tr>\n",
       "    <tr>\n",
       "      <th>2</th>\n",
       "      <td>0.0</td>\n",
       "      <td>0.0</td>\n",
       "      <td>0.00</td>\n",
       "      <td>0.0</td>\n",
       "      <td>0.04</td>\n",
       "      <td>0.0</td>\n",
       "      <td>0.0</td>\n",
       "      <td>0.0</td>\n",
       "      <td>0.00</td>\n",
       "      <td>0.0</td>\n",
       "      <td>...</td>\n",
       "      <td>0.0</td>\n",
       "      <td>0.00</td>\n",
       "      <td>0.00</td>\n",
       "      <td>0.0</td>\n",
       "      <td>0.0</td>\n",
       "      <td>0.0</td>\n",
       "      <td>0.0</td>\n",
       "      <td>0.0</td>\n",
       "      <td>0.0</td>\n",
       "      <td>0.0</td>\n",
       "    </tr>\n",
       "    <tr>\n",
       "      <th>3</th>\n",
       "      <td>0.0</td>\n",
       "      <td>0.0</td>\n",
       "      <td>0.00</td>\n",
       "      <td>0.0</td>\n",
       "      <td>0.00</td>\n",
       "      <td>0.0</td>\n",
       "      <td>0.1</td>\n",
       "      <td>0.0</td>\n",
       "      <td>0.00</td>\n",
       "      <td>0.0</td>\n",
       "      <td>...</td>\n",
       "      <td>0.0</td>\n",
       "      <td>0.00</td>\n",
       "      <td>0.00</td>\n",
       "      <td>0.0</td>\n",
       "      <td>0.0</td>\n",
       "      <td>0.0</td>\n",
       "      <td>0.0</td>\n",
       "      <td>0.0</td>\n",
       "      <td>0.0</td>\n",
       "      <td>0.0</td>\n",
       "    </tr>\n",
       "    <tr>\n",
       "      <th>4</th>\n",
       "      <td>0.0</td>\n",
       "      <td>0.0</td>\n",
       "      <td>0.00</td>\n",
       "      <td>0.0</td>\n",
       "      <td>0.00</td>\n",
       "      <td>0.0</td>\n",
       "      <td>0.0</td>\n",
       "      <td>0.0</td>\n",
       "      <td>0.00</td>\n",
       "      <td>0.0</td>\n",
       "      <td>...</td>\n",
       "      <td>0.0</td>\n",
       "      <td>0.00</td>\n",
       "      <td>0.00</td>\n",
       "      <td>0.0</td>\n",
       "      <td>0.0</td>\n",
       "      <td>0.0</td>\n",
       "      <td>0.0</td>\n",
       "      <td>0.0</td>\n",
       "      <td>0.0</td>\n",
       "      <td>0.0</td>\n",
       "    </tr>\n",
       "    <tr>\n",
       "      <th>...</th>\n",
       "      <td>...</td>\n",
       "      <td>...</td>\n",
       "      <td>...</td>\n",
       "      <td>...</td>\n",
       "      <td>...</td>\n",
       "      <td>...</td>\n",
       "      <td>...</td>\n",
       "      <td>...</td>\n",
       "      <td>...</td>\n",
       "      <td>...</td>\n",
       "      <td>...</td>\n",
       "      <td>...</td>\n",
       "      <td>...</td>\n",
       "      <td>...</td>\n",
       "      <td>...</td>\n",
       "      <td>...</td>\n",
       "      <td>...</td>\n",
       "      <td>...</td>\n",
       "      <td>...</td>\n",
       "      <td>...</td>\n",
       "      <td>...</td>\n",
       "    </tr>\n",
       "    <tr>\n",
       "      <th>163</th>\n",
       "      <td>0.0</td>\n",
       "      <td>0.0</td>\n",
       "      <td>0.00</td>\n",
       "      <td>0.0</td>\n",
       "      <td>0.00</td>\n",
       "      <td>0.0</td>\n",
       "      <td>0.0</td>\n",
       "      <td>0.0</td>\n",
       "      <td>0.05</td>\n",
       "      <td>0.0</td>\n",
       "      <td>...</td>\n",
       "      <td>0.0</td>\n",
       "      <td>0.00</td>\n",
       "      <td>0.00</td>\n",
       "      <td>0.0</td>\n",
       "      <td>0.0</td>\n",
       "      <td>0.0</td>\n",
       "      <td>0.0</td>\n",
       "      <td>0.0</td>\n",
       "      <td>0.0</td>\n",
       "      <td>0.0</td>\n",
       "    </tr>\n",
       "    <tr>\n",
       "      <th>164</th>\n",
       "      <td>0.0</td>\n",
       "      <td>0.0</td>\n",
       "      <td>0.00</td>\n",
       "      <td>0.0</td>\n",
       "      <td>0.00</td>\n",
       "      <td>0.0</td>\n",
       "      <td>0.0</td>\n",
       "      <td>0.0</td>\n",
       "      <td>0.00</td>\n",
       "      <td>0.0</td>\n",
       "      <td>...</td>\n",
       "      <td>0.0</td>\n",
       "      <td>0.00</td>\n",
       "      <td>0.00</td>\n",
       "      <td>0.0</td>\n",
       "      <td>0.0</td>\n",
       "      <td>0.0</td>\n",
       "      <td>0.0</td>\n",
       "      <td>0.0</td>\n",
       "      <td>0.0</td>\n",
       "      <td>0.0</td>\n",
       "    </tr>\n",
       "    <tr>\n",
       "      <th>165</th>\n",
       "      <td>0.0</td>\n",
       "      <td>0.0</td>\n",
       "      <td>0.00</td>\n",
       "      <td>0.0</td>\n",
       "      <td>0.00</td>\n",
       "      <td>0.0</td>\n",
       "      <td>0.0</td>\n",
       "      <td>0.0</td>\n",
       "      <td>0.00</td>\n",
       "      <td>0.0</td>\n",
       "      <td>...</td>\n",
       "      <td>0.0</td>\n",
       "      <td>0.04</td>\n",
       "      <td>0.00</td>\n",
       "      <td>0.0</td>\n",
       "      <td>0.0</td>\n",
       "      <td>0.0</td>\n",
       "      <td>0.0</td>\n",
       "      <td>0.0</td>\n",
       "      <td>0.0</td>\n",
       "      <td>0.0</td>\n",
       "    </tr>\n",
       "    <tr>\n",
       "      <th>166</th>\n",
       "      <td>0.0</td>\n",
       "      <td>0.0</td>\n",
       "      <td>0.07</td>\n",
       "      <td>0.0</td>\n",
       "      <td>0.00</td>\n",
       "      <td>0.0</td>\n",
       "      <td>0.0</td>\n",
       "      <td>0.0</td>\n",
       "      <td>0.00</td>\n",
       "      <td>0.0</td>\n",
       "      <td>...</td>\n",
       "      <td>0.0</td>\n",
       "      <td>0.00</td>\n",
       "      <td>0.08</td>\n",
       "      <td>0.0</td>\n",
       "      <td>0.0</td>\n",
       "      <td>0.0</td>\n",
       "      <td>0.0</td>\n",
       "      <td>0.0</td>\n",
       "      <td>0.0</td>\n",
       "      <td>0.0</td>\n",
       "    </tr>\n",
       "    <tr>\n",
       "      <th>167</th>\n",
       "      <td>0.0</td>\n",
       "      <td>0.0</td>\n",
       "      <td>0.00</td>\n",
       "      <td>0.0</td>\n",
       "      <td>0.00</td>\n",
       "      <td>0.0</td>\n",
       "      <td>0.0</td>\n",
       "      <td>0.0</td>\n",
       "      <td>0.00</td>\n",
       "      <td>0.0</td>\n",
       "      <td>...</td>\n",
       "      <td>0.0</td>\n",
       "      <td>0.00</td>\n",
       "      <td>0.00</td>\n",
       "      <td>0.0</td>\n",
       "      <td>0.0</td>\n",
       "      <td>0.0</td>\n",
       "      <td>0.0</td>\n",
       "      <td>0.0</td>\n",
       "      <td>0.0</td>\n",
       "      <td>0.0</td>\n",
       "    </tr>\n",
       "  </tbody>\n",
       "</table>\n",
       "<p>168 rows × 1825 columns</p>\n",
       "</div>"
      ],
      "text/plain": [
       "     abandon  abc  ability  absurd  accept  achieve  act  actin  action  \\\n",
       "0        0.0  0.0     0.00     0.0    0.00      0.0  0.0    0.0    0.00   \n",
       "1        0.0  0.0     0.00     0.0    0.04      0.0  0.0    0.0    0.00   \n",
       "2        0.0  0.0     0.00     0.0    0.04      0.0  0.0    0.0    0.00   \n",
       "3        0.0  0.0     0.00     0.0    0.00      0.0  0.1    0.0    0.00   \n",
       "4        0.0  0.0     0.00     0.0    0.00      0.0  0.0    0.0    0.00   \n",
       "..       ...  ...      ...     ...     ...      ...  ...    ...     ...   \n",
       "163      0.0  0.0     0.00     0.0    0.00      0.0  0.0    0.0    0.05   \n",
       "164      0.0  0.0     0.00     0.0    0.00      0.0  0.0    0.0    0.00   \n",
       "165      0.0  0.0     0.00     0.0    0.00      0.0  0.0    0.0    0.00   \n",
       "166      0.0  0.0     0.07     0.0    0.00      0.0  0.0    0.0    0.00   \n",
       "167      0.0  0.0     0.00     0.0    0.00      0.0  0.0    0.0    0.00   \n",
       "\n",
       "     actress  ...  yellin   yes  yield  you  young   yz   ça  джакузи  модель  \\\n",
       "0        0.0  ...     0.0  0.00   0.00  0.0    0.0  0.0  0.0      0.0     0.0   \n",
       "1        0.0  ...     0.0  0.00   0.00  0.0    0.0  0.0  0.0      0.0     0.0   \n",
       "2        0.0  ...     0.0  0.00   0.00  0.0    0.0  0.0  0.0      0.0     0.0   \n",
       "3        0.0  ...     0.0  0.00   0.00  0.0    0.0  0.0  0.0      0.0     0.0   \n",
       "4        0.0  ...     0.0  0.00   0.00  0.0    0.0  0.0  0.0      0.0     0.0   \n",
       "..       ...  ...     ...   ...    ...  ...    ...  ...  ...      ...     ...   \n",
       "163      0.0  ...     0.0  0.00   0.00  0.0    0.0  0.0  0.0      0.0     0.0   \n",
       "164      0.0  ...     0.0  0.00   0.00  0.0    0.0  0.0  0.0      0.0     0.0   \n",
       "165      0.0  ...     0.0  0.04   0.00  0.0    0.0  0.0  0.0      0.0     0.0   \n",
       "166      0.0  ...     0.0  0.00   0.08  0.0    0.0  0.0  0.0      0.0     0.0   \n",
       "167      0.0  ...     0.0  0.00   0.00  0.0    0.0  0.0  0.0      0.0     0.0   \n",
       "\n",
       "     сосёт  \n",
       "0      0.0  \n",
       "1      0.0  \n",
       "2      0.0  \n",
       "3      0.0  \n",
       "4      0.0  \n",
       "..     ...  \n",
       "163    0.0  \n",
       "164    0.0  \n",
       "165    0.0  \n",
       "166    0.0  \n",
       "167    0.0  \n",
       "\n",
       "[168 rows x 1825 columns]"
      ]
     },
     "execution_count": 349,
     "metadata": {},
     "output_type": "execute_result"
    }
   ],
   "source": [
    "tf_vectors"
   ]
  },
  {
   "cell_type": "markdown",
   "id": "9bc20e5b",
   "metadata": {},
   "source": [
    "____________________________________________________________"
   ]
  },
  {
   "cell_type": "markdown",
   "id": "1840e6f9",
   "metadata": {},
   "source": [
    "METRICS"
   ]
  },
  {
   "cell_type": "code",
   "execution_count": 356,
   "id": "99acecff",
   "metadata": {},
   "outputs": [],
   "source": [
    "\"\"\"METRICS FOR THE MODELS\"\"\"\n",
    "def print_evaluations(X_test,y_test, model):\n",
    "    y_pred=model.predict(X_test)\n",
    "    print(f'Accuracy: {round(accuracy_score(y_test, y_pred), 3)}')\n",
    "    print(f'Precision: {round(precision_score(y_test, y_pred,pos_label=\"Melanie Martinez\"), 3)}')\n",
    "    print(f'Recall: {round(recall_score(y_test, y_pred, pos_label=\"Melanie Martinez\"), 3)}')\n",
    "    print(f'F1-score: {round(f1_score(y_test, y_pred,pos_label=\"Melanie Martinez\"), 3)}')\n",
    "    plot_confusion_matrix(model, X_test, y_test,cmap=plt.cm.Blues,display_labels=['Oliver Tree', 'Melany Martinez'])\n",
    "    \n",
    "  "
   ]
  },
  {
   "cell_type": "markdown",
   "id": "3ab8f1e3",
   "metadata": {},
   "source": [
    "____________________________________________________________"
   ]
  },
  {
   "cell_type": "markdown",
   "id": "bd4def01",
   "metadata": {},
   "source": [
    "LOGISTIC REGRESSION #1"
   ]
  },
  {
   "cell_type": "code",
   "execution_count": 357,
   "id": "cf5e24ff",
   "metadata": {},
   "outputs": [
    {
     "name": "stdout",
     "output_type": "stream",
     "text": [
      "Train score : 0.9940476190476191\n"
     ]
    }
   ],
   "source": [
    "model=LogisticRegression()\n",
    "model.fit(tf_vectors,y_train)\n",
    "print(\"Train score :\",model.score(tf_vectors,y_train))"
   ]
  },
  {
   "cell_type": "code",
   "execution_count": 358,
   "id": "a017b7e0",
   "metadata": {},
   "outputs": [],
   "source": [
    "acc_log=round(model.score(X_test_trans,y_test),3)"
   ]
  },
  {
   "cell_type": "code",
   "execution_count": 359,
   "id": "26e386bb",
   "metadata": {},
   "outputs": [
    {
     "name": "stdout",
     "output_type": "stream",
     "text": [
      "Cross-validation score : 0.8992869875222815\n"
     ]
    }
   ],
   "source": [
    "accuracy=cross_val_score(model,tf_vectors,y_train)\n",
    "print(\"Cross-validation score :\", accuracy.mean())"
   ]
  },
  {
   "cell_type": "code",
   "execution_count": 360,
   "id": "d15e10c8",
   "metadata": {},
   "outputs": [
    {
     "name": "stdout",
     "output_type": "stream",
     "text": [
      "['Oliver Tree']\n"
     ]
    }
   ],
   "source": [
    "#testing one song for the LR\n",
    "test_song1=[\"I don't wanna talk about it all again\"]\n",
    "test=tf.transform(test_song1)\n",
    "print(model.predict(test))"
   ]
  },
  {
   "cell_type": "code",
   "execution_count": 361,
   "id": "6ea650fb",
   "metadata": {},
   "outputs": [
    {
     "name": "stdout",
     "output_type": "stream",
     "text": [
      "Accuracy: 1.0\n",
      "Precision: 1.0\n",
      "Recall: 1.0\n",
      "F1-score: 1.0\n"
     ]
    },
    {
     "data": {
      "image/png": "[encoded data removed]",
      "text/plain": [
       "<Figure size 432x288 with 2 Axes>"
      ]
     },
     "metadata": {
      "needs_background": "light"
     },
     "output_type": "display_data"
    }
   ],
   "source": [
    "print_evaluations(X_test_trans, y_test, model)"
   ]
  },
  {
   "cell_type": "markdown",
   "id": "64e61d24",
   "metadata": {},
   "source": [
    "____________________________________________________________"
   ]
  },
  {
   "cell_type": "markdown",
   "id": "c071dd46",
   "metadata": {},
   "source": [
    "NAIVE BAYES #2"
   ]
  },
  {
   "cell_type": "code",
   "execution_count": 362,
   "id": "98db1ab5",
   "metadata": {},
   "outputs": [
    {
     "name": "stdout",
     "output_type": "stream",
     "text": [
      "Train score : 0.9940476190476191\n"
     ]
    }
   ],
   "source": [
    "from sklearn.naive_bayes import MultinomialNB\n",
    "nb = MultinomialNB()\n",
    "nb.fit(tf_vectors,y_train)\n",
    "print(\"Train score :\",nb.score(tf_vectors,y_train))"
   ]
  },
  {
   "cell_type": "code",
   "execution_count": 363,
   "id": "c480fa67",
   "metadata": {},
   "outputs": [],
   "source": [
    "acc_nb=round(nb.score(X_test_trans,y_test),3) #saving for later model comparison"
   ]
  },
  {
   "cell_type": "code",
   "execution_count": 364,
   "id": "658bd690",
   "metadata": {},
   "outputs": [
    {
     "name": "stdout",
     "output_type": "stream",
     "text": [
      "Cross-validation score : 0.8930481283422459\n"
     ]
    }
   ],
   "source": [
    "accuracy=cross_val_score(nb,tf_vectors,y_train)\n",
    "print(\"Cross-validation score :\", accuracy.mean())"
   ]
  },
  {
   "cell_type": "code",
   "execution_count": 376,
   "id": "d8bc1371",
   "metadata": {},
   "outputs": [
    {
     "name": "stdout",
     "output_type": "stream",
     "text": [
      "['Oliver Tree']\n"
     ]
    }
   ],
   "source": [
    "#testing one song for the NB\n",
    "test_song2=[\"My teeth are sharp like the great white shark\"]\n",
    "test=tf.transform(test_song2)\n",
    "print(model.predict(test))"
   ]
  },
  {
   "cell_type": "code",
   "execution_count": 366,
   "id": "6a813983",
   "metadata": {},
   "outputs": [
    {
     "name": "stdout",
     "output_type": "stream",
     "text": [
      "Accuracy: 0.982\n",
      "Precision: 0.968\n",
      "Recall: 1.0\n",
      "F1-score: 0.984\n"
     ]
    },
    {
     "data": {
      "image/png": "[encoded data removed]",
      "text/plain": [
       "<Figure size 432x288 with 2 Axes>"
      ]
     },
     "metadata": {
      "needs_background": "light"
     },
     "output_type": "display_data"
    }
   ],
   "source": [
    "print_evaluations(X_test_trans, y_test, nb)"
   ]
  },
  {
   "cell_type": "markdown",
   "id": "e4801d26",
   "metadata": {},
   "source": [
    "____________________________________________________________"
   ]
  },
  {
   "cell_type": "markdown",
   "id": "0e702c2e",
   "metadata": {},
   "source": [
    "SUPPORT VECTOR MACHINES #3"
   ]
  },
  {
   "cell_type": "code",
   "execution_count": 367,
   "id": "6925b19c",
   "metadata": {},
   "outputs": [
    {
     "name": "stdout",
     "output_type": "stream",
     "text": [
      "Train score : 0.9940476190476191\n"
     ]
    }
   ],
   "source": [
    "from sklearn import svm\n",
    "\n",
    "svm_clf=svm.SVC(kernel='linear')\n",
    "svm_clf.fit(tf_vectors,y_train)\n",
    "print(\"Train score :\",svm_clf.score(tf_vectors,y_train))"
   ]
  },
  {
   "cell_type": "code",
   "execution_count": 368,
   "id": "07681fd4",
   "metadata": {},
   "outputs": [],
   "source": [
    "acc_svm=round(svm_clf.score(X_test_trans,y_test),3) #saving for later model comparison"
   ]
  },
  {
   "cell_type": "code",
   "execution_count": 369,
   "id": "8fc3cce0",
   "metadata": {},
   "outputs": [
    {
     "name": "stdout",
     "output_type": "stream",
     "text": [
      "Cross-validation score : 0.8814616755793226\n"
     ]
    }
   ],
   "source": [
    "accuracy=cross_val_score(svm_clf,tf_vectors,y_train)\n",
    "print(\"Cross-validation score :\", accuracy.mean())"
   ]
  },
  {
   "cell_type": "code",
   "execution_count": 370,
   "id": "2c4f156f",
   "metadata": {},
   "outputs": [
    {
     "name": "stdout",
     "output_type": "stream",
     "text": [
      "['Oliver Tree']\n"
     ]
    }
   ],
   "source": [
    "#testing one song for the SVM\n",
    "test_song3=[\"I'm sorry I can't help you, somebody should've had your back\"]\n",
    "test=tf.transform(test_song3)\n",
    "print(model.predict(test))"
   ]
  },
  {
   "cell_type": "code",
   "execution_count": 371,
   "id": "8bbbc8d9",
   "metadata": {},
   "outputs": [
    {
     "name": "stdout",
     "output_type": "stream",
     "text": [
      "Accuracy: 0.982\n",
      "Precision: 1.0\n",
      "Recall: 0.967\n",
      "F1-score: 0.983\n"
     ]
    },
    {
     "data": {
      "image/png": "[encoded data removed]",
      "text/plain": [
       "<Figure size 432x288 with 2 Axes>"
      ]
     },
     "metadata": {
      "needs_background": "light"
     },
     "output_type": "display_data"
    }
   ],
   "source": [
    "print_evaluations(X_test_trans, y_test, svm_clf)"
   ]
  },
  {
   "cell_type": "markdown",
   "id": "477ac7e0",
   "metadata": {},
   "source": [
    "____________________________________________________________"
   ]
  },
  {
   "cell_type": "markdown",
   "id": "a21b0553",
   "metadata": {},
   "source": [
    "FINAL MODEL COMPARISON"
   ]
  },
  {
   "cell_type": "code",
   "execution_count": 372,
   "id": "53f0d41c",
   "metadata": {},
   "outputs": [
    {
     "data": {
      "text/html": [
       "<div>\n",
       "<style scoped>\n",
       "    .dataframe tbody tr th:only-of-type {\n",
       "        vertical-align: middle;\n",
       "    }\n",
       "\n",
       "    .dataframe tbody tr th {\n",
       "        vertical-align: top;\n",
       "    }\n",
       "\n",
       "    .dataframe thead th {\n",
       "        text-align: right;\n",
       "    }\n",
       "</style>\n",
       "<table border=\"1\" class=\"dataframe\">\n",
       "  <thead>\n",
       "    <tr style=\"text-align: right;\">\n",
       "      <th></th>\n",
       "      <th>Model</th>\n",
       "      <th>Score</th>\n",
       "    </tr>\n",
       "  </thead>\n",
       "  <tbody>\n",
       "    <tr>\n",
       "      <th>0</th>\n",
       "      <td>Logistic Regression</td>\n",
       "      <td>1.000</td>\n",
       "    </tr>\n",
       "    <tr>\n",
       "      <th>1</th>\n",
       "      <td>Naive Bayes</td>\n",
       "      <td>0.982</td>\n",
       "    </tr>\n",
       "    <tr>\n",
       "      <th>2</th>\n",
       "      <td>Support Vector Machine</td>\n",
       "      <td>0.982</td>\n",
       "    </tr>\n",
       "  </tbody>\n",
       "</table>\n",
       "</div>"
      ],
      "text/plain": [
       "                    Model  Score\n",
       "0     Logistic Regression  1.000\n",
       "1             Naive Bayes  0.982\n",
       "2  Support Vector Machine  0.982"
      ]
     },
     "execution_count": 372,
     "metadata": {},
     "output_type": "execute_result"
    }
   ],
   "source": [
    "models = pd.DataFrame({\n",
    "    'Model': ['Logistic Regression','Naive Bayes', 'Support Vector Machine'],\n",
    "    \n",
    "    'Score': [acc_log, acc_nb, acc_svm]\n",
    "    })\n",
    "\n",
    "models.sort_values(by='Score', ascending=False)"
   ]
  },
  {
   "cell_type": "code",
   "execution_count": 373,
   "id": "30e5d0f6",
   "metadata": {},
   "outputs": [
    {
     "data": {
      "text/plain": [
       "<sklearn.metrics._plot.roc_curve.RocCurveDisplay at 0x7fb687b9a4c0>"
      ]
     },
     "execution_count": 373,
     "metadata": {},
     "output_type": "execute_result"
    },
    {
     "data": {
      "image/png": "[encoded data removed]",
      "text/plain": [
       "<Figure size 576x360 with 1 Axes>"
      ]
     },
     "metadata": {
      "needs_background": "light"
     },
     "output_type": "display_data"
    }
   ],
   "source": [
    "fig, axes = plt.subplots(1,1, figsize=(8,5))\n",
    "metrics.plot_roc_curve(model, X_test_trans, y_test, ax=axes)\n",
    "metrics.plot_roc_curve(nb, X_test_trans, y_test, ax=axes)\n",
    "metrics.plot_roc_curve(svm_clf, X_test_trans, y_test,ax=axes)\n"
   ]
  }
 ],
 "metadata": {
  "kernelspec": {
   "display_name": "Python 3 (ipykernel)",
   "language": "python",
   "name": "python3"
  },
  "language_info": {
   "codemirror_mode": {
    "name": "ipython",
    "version": 3
   },
   "file_extension": ".py",
   "mimetype": "text/x-python",
   "name": "python",
   "nbconvert_exporter": "python",
   "pygments_lexer": "ipython3",
   "version": "3.9.12"
  }
 },
 "nbformat": 4,
 "nbformat_minor": 5
}
